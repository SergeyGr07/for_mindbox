{
 "cells": [
  {
   "cell_type": "code",
   "execution_count": 2,
   "metadata": {},
   "outputs": [
    {
     "name": "stderr",
     "output_type": "stream",
     "text": [
      "your 131072x1 screen size is bogus. expect trouble\n",
      "24/07/23 21:30:34 WARN Utils: Your hostname, Sergi resolves to a loopback address: 127.0.1.1; using 10.255.255.254 instead (on interface lo)\n",
      "24/07/23 21:30:34 WARN Utils: Set SPARK_LOCAL_IP if you need to bind to another address\n",
      "Setting default log level to \"WARN\".\n",
      "To adjust logging level use sc.setLogLevel(newLevel). For SparkR, use setLogLevel(newLevel).\n",
      "24/07/23 21:30:45 WARN NativeCodeLoader: Unable to load native-hadoop library for your platform... using builtin-java classes where applicable\n"
     ]
    }
   ],
   "source": [
    "from pyspark.sql import SparkSession\n",
    "from pyspark.sql.functions import col\n",
    "\n",
    "spark = SparkSession.builder \\\n",
    "    .appName(\"Product-Category Analysis\") \\\n",
    "    .getOrCreate()\n"
   ]
  },
  {
   "cell_type": "code",
   "execution_count": 3,
   "metadata": {},
   "outputs": [],
   "source": [
    "products_data = [\n",
    "    (1, 'Product A'),\n",
    "    (2, 'Product B'),\n",
    "    (3, 'Product C'),\n",
    "    (4, 'Product D'),\n",
    "    (5, 'Product E')\n",
    "]\n",
    "\n",
    "products_df = spark.createDataFrame(products_data, ['product_id', 'product_name'])\n",
    "\n",
    "categories_data = [\n",
    "    (1, 'Category X'),\n",
    "    (2, 'Category Y'),\n",
    "    (3, 'Category Z')\n",
    "]\n",
    "\n",
    "categories_df = spark.createDataFrame(categories_data, ['category_id', 'category_name'])\n",
    "\n",
    "product_category_data = [\n",
    "    (1, 1),\n",
    "    (1, 2),\n",
    "    (2, 1),\n",
    "    (3, 3)\n",
    "]\n",
    "\n",
    "product_category_df = spark.createDataFrame(product_category_data, ['product_id', 'category_id'])\n"
   ]
  },
  {
   "cell_type": "code",
   "execution_count": 4,
   "metadata": {},
   "outputs": [
    {
     "name": "stderr",
     "output_type": "stream",
     "text": [
      "                                                                                \r"
     ]
    },
    {
     "name": "stdout",
     "output_type": "stream",
     "text": [
      "+------------+-------------+\n",
      "|product_name|category_name|\n",
      "+------------+-------------+\n",
      "|Product A   |Category X   |\n",
      "|Product A   |Category Y   |\n",
      "|Product B   |Category X   |\n",
      "|Product C   |Category Z   |\n",
      "+------------+-------------+\n",
      "\n"
     ]
    }
   ],
   "source": [
    "result_df = product_category_df \\\n",
    "    .join(products_df, on='product_id', how='left') \\\n",
    "    .join(categories_df, on='category_id', how='left') \\\n",
    "    .select(col('product_name'), col('category_name'))\n",
    "\n",
    "result_df.show(truncate=False)\n"
   ]
  },
  {
   "cell_type": "code",
   "execution_count": 5,
   "metadata": {},
   "outputs": [
    {
     "name": "stdout",
     "output_type": "stream",
     "text": [
      "+------------+\n",
      "|product_name|\n",
      "+------------+\n",
      "|Product D   |\n",
      "|Product E   |\n",
      "+------------+\n",
      "\n"
     ]
    }
   ],
   "source": [
    "no_category_products_df = products_df \\\n",
    "    .join(product_category_df, on='product_id', how='left_anti') \\\n",
    "    .select(col('product_name'))\n",
    "\n",
    "no_category_products_df.show(truncate=False)\n"
   ]
  },
  {
   "cell_type": "code",
   "execution_count": 6,
   "metadata": {},
   "outputs": [],
   "source": [
    "spark.stop()\n"
   ]
  }
 ],
 "metadata": {
  "kernelspec": {
   "display_name": ".venv",
   "language": "python",
   "name": "python3"
  },
  "language_info": {
   "codemirror_mode": {
    "name": "ipython",
    "version": 3
   },
   "file_extension": ".py",
   "mimetype": "text/x-python",
   "name": "python",
   "nbconvert_exporter": "python",
   "pygments_lexer": "ipython3",
   "version": "3.10.12"
  }
 },
 "nbformat": 4,
 "nbformat_minor": 2
}
